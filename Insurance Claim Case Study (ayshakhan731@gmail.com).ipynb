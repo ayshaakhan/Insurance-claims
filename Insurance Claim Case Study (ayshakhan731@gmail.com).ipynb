{
 "cells": [
  {
   "cell_type": "code",
   "execution_count": 99,
   "id": "73281888",
   "metadata": {},
   "outputs": [],
   "source": [
    "import numpy as np\n",
    "import pandas as pd\n",
    "import matplotlib.pyplot as plt\n",
    "import datetime as dt\n",
    "import scipy.stats as stats"
   ]
  },
  {
   "cell_type": "markdown",
   "id": "7965dff3",
   "metadata": {},
   "source": [
    "## 1. Import claims_data.csv and cust_data.csv which is provided to you and combine the two datasets appropriately to create a 360-degree view of the data. Use the same for the subsequent questions."
   ]
  },
  {
   "cell_type": "code",
   "execution_count": 100,
   "id": "3b2c04d3",
   "metadata": {},
   "outputs": [],
   "source": [
    "claims = pd.read_csv('claims.csv')\n",
    "cust = pd.read_csv('cust_demographics.csv')"
   ]
  },
  {
   "cell_type": "code",
   "execution_count": 101,
   "id": "5d85fd97",
   "metadata": {},
   "outputs": [
    {
     "data": {
      "text/html": [
       "<div>\n",
       "<style scoped>\n",
       "    .dataframe tbody tr th:only-of-type {\n",
       "        vertical-align: middle;\n",
       "    }\n",
       "\n",
       "    .dataframe tbody tr th {\n",
       "        vertical-align: top;\n",
       "    }\n",
       "\n",
       "    .dataframe thead th {\n",
       "        text-align: right;\n",
       "    }\n",
       "</style>\n",
       "<table border=\"1\" class=\"dataframe\">\n",
       "  <thead>\n",
       "    <tr style=\"text-align: right;\">\n",
       "      <th></th>\n",
       "      <th>claim_id</th>\n",
       "      <th>customer_id</th>\n",
       "      <th>incident_cause</th>\n",
       "      <th>claim_date</th>\n",
       "      <th>claim_area</th>\n",
       "      <th>police_report</th>\n",
       "      <th>claim_type</th>\n",
       "      <th>claim_amount</th>\n",
       "      <th>total_policy_claims</th>\n",
       "      <th>fraudulent</th>\n",
       "      <th>CUST_ID</th>\n",
       "      <th>gender</th>\n",
       "      <th>DateOfBirth</th>\n",
       "      <th>State</th>\n",
       "      <th>Contact</th>\n",
       "      <th>Segment</th>\n",
       "    </tr>\n",
       "  </thead>\n",
       "  <tbody>\n",
       "    <tr>\n",
       "      <th>0</th>\n",
       "      <td>54004764</td>\n",
       "      <td>21868593</td>\n",
       "      <td>Driver error</td>\n",
       "      <td>11/27/2017</td>\n",
       "      <td>Auto</td>\n",
       "      <td>No</td>\n",
       "      <td>Material only</td>\n",
       "      <td>$2980</td>\n",
       "      <td>1.0</td>\n",
       "      <td>No</td>\n",
       "      <td>21868593.0</td>\n",
       "      <td>Female</td>\n",
       "      <td>12-Jan-79</td>\n",
       "      <td>VT</td>\n",
       "      <td>789-916-8172</td>\n",
       "      <td>Platinum</td>\n",
       "    </tr>\n",
       "    <tr>\n",
       "      <th>1</th>\n",
       "      <td>33985796</td>\n",
       "      <td>75740424</td>\n",
       "      <td>Crime</td>\n",
       "      <td>10/03/2018</td>\n",
       "      <td>Home</td>\n",
       "      <td>Unknown</td>\n",
       "      <td>Material only</td>\n",
       "      <td>$2980</td>\n",
       "      <td>3.0</td>\n",
       "      <td>No</td>\n",
       "      <td>75740424.0</td>\n",
       "      <td>Female</td>\n",
       "      <td>13-Jan-70</td>\n",
       "      <td>ME</td>\n",
       "      <td>265-543-1264</td>\n",
       "      <td>Silver</td>\n",
       "    </tr>\n",
       "    <tr>\n",
       "      <th>2</th>\n",
       "      <td>53522022</td>\n",
       "      <td>30308357</td>\n",
       "      <td>Other driver error</td>\n",
       "      <td>02/02/2018</td>\n",
       "      <td>Auto</td>\n",
       "      <td>No</td>\n",
       "      <td>Material only</td>\n",
       "      <td>$3369.5</td>\n",
       "      <td>1.0</td>\n",
       "      <td>Yes</td>\n",
       "      <td>30308357.0</td>\n",
       "      <td>Female</td>\n",
       "      <td>11-Mar-84</td>\n",
       "      <td>TN</td>\n",
       "      <td>798-631-4758</td>\n",
       "      <td>Silver</td>\n",
       "    </tr>\n",
       "    <tr>\n",
       "      <th>3</th>\n",
       "      <td>13015401</td>\n",
       "      <td>47830476</td>\n",
       "      <td>Natural causes</td>\n",
       "      <td>06/17/2018</td>\n",
       "      <td>Auto</td>\n",
       "      <td>No</td>\n",
       "      <td>Material only</td>\n",
       "      <td>$1680</td>\n",
       "      <td>1.0</td>\n",
       "      <td>No</td>\n",
       "      <td>47830476.0</td>\n",
       "      <td>Female</td>\n",
       "      <td>01-May-86</td>\n",
       "      <td>MA</td>\n",
       "      <td>413-187-7945</td>\n",
       "      <td>Silver</td>\n",
       "    </tr>\n",
       "    <tr>\n",
       "      <th>4</th>\n",
       "      <td>22890252</td>\n",
       "      <td>19269962</td>\n",
       "      <td>Crime</td>\n",
       "      <td>01/13/2018</td>\n",
       "      <td>Auto</td>\n",
       "      <td>No</td>\n",
       "      <td>Material only</td>\n",
       "      <td>$2680</td>\n",
       "      <td>1.0</td>\n",
       "      <td>No</td>\n",
       "      <td>19269962.0</td>\n",
       "      <td>Male</td>\n",
       "      <td>13-May-77</td>\n",
       "      <td>NV</td>\n",
       "      <td>956-871-8691</td>\n",
       "      <td>Gold</td>\n",
       "    </tr>\n",
       "  </tbody>\n",
       "</table>\n",
       "</div>"
      ],
      "text/plain": [
       "   claim_id  customer_id      incident_cause  claim_date claim_area  \\\n",
       "0  54004764     21868593        Driver error  11/27/2017       Auto   \n",
       "1  33985796     75740424               Crime  10/03/2018       Home   \n",
       "2  53522022     30308357  Other driver error  02/02/2018       Auto   \n",
       "3  13015401     47830476      Natural causes  06/17/2018       Auto   \n",
       "4  22890252     19269962               Crime  01/13/2018       Auto   \n",
       "\n",
       "  police_report     claim_type claim_amount  total_policy_claims fraudulent  \\\n",
       "0            No  Material only        $2980                  1.0         No   \n",
       "1       Unknown  Material only        $2980                  3.0         No   \n",
       "2            No  Material only      $3369.5                  1.0        Yes   \n",
       "3            No  Material only        $1680                  1.0         No   \n",
       "4            No  Material only        $2680                  1.0         No   \n",
       "\n",
       "      CUST_ID  gender DateOfBirth State       Contact   Segment  \n",
       "0  21868593.0  Female   12-Jan-79    VT  789-916-8172  Platinum  \n",
       "1  75740424.0  Female   13-Jan-70    ME  265-543-1264    Silver  \n",
       "2  30308357.0  Female   11-Mar-84    TN  798-631-4758    Silver  \n",
       "3  47830476.0  Female   01-May-86    MA  413-187-7945    Silver  \n",
       "4  19269962.0    Male   13-May-77    NV  956-871-8691      Gold  "
      ]
     },
     "execution_count": 101,
     "metadata": {},
     "output_type": "execute_result"
    }
   ],
   "source": [
    "cust_claims = pd.merge(left = claims, right = cust, how = 'left', left_on = 'customer_id', right_on = 'CUST_ID')\n",
    "cust_claims.head()"
   ]
  },
  {
   "cell_type": "markdown",
   "id": "10901ef9",
   "metadata": {},
   "source": [
    "## 2. Perform a data audit for the datatypes and find out if there are any mismatch within the current datatypes of the columns and their business significance."
   ]
  },
  {
   "cell_type": "code",
   "execution_count": 102,
   "id": "56f6baa1",
   "metadata": {},
   "outputs": [
    {
     "name": "stdout",
     "output_type": "stream",
     "text": [
      "<class 'pandas.core.frame.DataFrame'>\n",
      "RangeIndex: 1100 entries, 0 to 1099\n",
      "Data columns (total 16 columns):\n",
      " #   Column               Non-Null Count  Dtype  \n",
      "---  ------               --------------  -----  \n",
      " 0   claim_id             1100 non-null   int64  \n",
      " 1   customer_id          1100 non-null   int64  \n",
      " 2   incident_cause       1100 non-null   object \n",
      " 3   claim_date           1100 non-null   object \n",
      " 4   claim_area           1100 non-null   object \n",
      " 5   police_report        1100 non-null   object \n",
      " 6   claim_type           1100 non-null   object \n",
      " 7   claim_amount         1035 non-null   object \n",
      " 8   total_policy_claims  1090 non-null   float64\n",
      " 9   fraudulent           1100 non-null   object \n",
      " 10  CUST_ID              1085 non-null   float64\n",
      " 11  gender               1085 non-null   object \n",
      " 12  DateOfBirth          1085 non-null   object \n",
      " 13  State                1085 non-null   object \n",
      " 14  Contact              1085 non-null   object \n",
      " 15  Segment              1085 non-null   object \n",
      "dtypes: float64(2), int64(2), object(12)\n",
      "memory usage: 137.6+ KB\n"
     ]
    }
   ],
   "source": [
    "cust_claims.info()"
   ]
  },
  {
   "cell_type": "code",
   "execution_count": 103,
   "id": "b7deacab",
   "metadata": {},
   "outputs": [
    {
     "name": "stderr",
     "output_type": "stream",
     "text": [
      "C:\\Users\\HP\\AppData\\Local\\Temp\\ipykernel_38112\\1348906180.py:2: UserWarning: Could not infer format, so each element will be parsed individually, falling back to `dateutil`. To ensure parsing is consistent and as-expected, please specify a format.\n",
      "  cust_claims.DateOfBirth = pd.to_datetime(cust_claims.DateOfBirth)\n"
     ]
    }
   ],
   "source": [
    "cust_claims.claim_date = pd.to_datetime(cust_claims.claim_date)\n",
    "cust_claims.DateOfBirth = pd.to_datetime(cust_claims.DateOfBirth)"
   ]
  },
  {
   "cell_type": "code",
   "execution_count": 104,
   "id": "8427e95d",
   "metadata": {},
   "outputs": [],
   "source": [
    "cust_claims.Contact = pd.to_numeric(cust_claims.Contact.str.replace(\"-\",\"\"), downcast = \"integer\")"
   ]
  },
  {
   "cell_type": "code",
   "execution_count": 105,
   "id": "44beb71f",
   "metadata": {},
   "outputs": [
    {
     "data": {
      "text/html": [
       "<div>\n",
       "<style scoped>\n",
       "    .dataframe tbody tr th:only-of-type {\n",
       "        vertical-align: middle;\n",
       "    }\n",
       "\n",
       "    .dataframe tbody tr th {\n",
       "        vertical-align: top;\n",
       "    }\n",
       "\n",
       "    .dataframe thead th {\n",
       "        text-align: right;\n",
       "    }\n",
       "</style>\n",
       "<table border=\"1\" class=\"dataframe\">\n",
       "  <thead>\n",
       "    <tr style=\"text-align: right;\">\n",
       "      <th></th>\n",
       "      <th>claim_id</th>\n",
       "      <th>customer_id</th>\n",
       "      <th>incident_cause</th>\n",
       "      <th>claim_date</th>\n",
       "      <th>claim_area</th>\n",
       "      <th>police_report</th>\n",
       "      <th>claim_type</th>\n",
       "      <th>claim_amount</th>\n",
       "      <th>total_policy_claims</th>\n",
       "      <th>fraudulent</th>\n",
       "      <th>CUST_ID</th>\n",
       "      <th>gender</th>\n",
       "      <th>DateOfBirth</th>\n",
       "      <th>State</th>\n",
       "      <th>Contact</th>\n",
       "      <th>Segment</th>\n",
       "    </tr>\n",
       "  </thead>\n",
       "  <tbody>\n",
       "    <tr>\n",
       "      <th>0</th>\n",
       "      <td>54004764</td>\n",
       "      <td>21868593</td>\n",
       "      <td>Driver error</td>\n",
       "      <td>2017-11-27</td>\n",
       "      <td>Auto</td>\n",
       "      <td>No</td>\n",
       "      <td>Material only</td>\n",
       "      <td>$2980</td>\n",
       "      <td>1.0</td>\n",
       "      <td>No</td>\n",
       "      <td>21868593.0</td>\n",
       "      <td>Female</td>\n",
       "      <td>1979-01-12</td>\n",
       "      <td>VT</td>\n",
       "      <td>7.899168e+09</td>\n",
       "      <td>Platinum</td>\n",
       "    </tr>\n",
       "    <tr>\n",
       "      <th>1</th>\n",
       "      <td>33985796</td>\n",
       "      <td>75740424</td>\n",
       "      <td>Crime</td>\n",
       "      <td>2018-10-03</td>\n",
       "      <td>Home</td>\n",
       "      <td>Unknown</td>\n",
       "      <td>Material only</td>\n",
       "      <td>$2980</td>\n",
       "      <td>3.0</td>\n",
       "      <td>No</td>\n",
       "      <td>75740424.0</td>\n",
       "      <td>Female</td>\n",
       "      <td>2070-01-13</td>\n",
       "      <td>ME</td>\n",
       "      <td>2.655431e+09</td>\n",
       "      <td>Silver</td>\n",
       "    </tr>\n",
       "    <tr>\n",
       "      <th>2</th>\n",
       "      <td>53522022</td>\n",
       "      <td>30308357</td>\n",
       "      <td>Other driver error</td>\n",
       "      <td>2018-02-02</td>\n",
       "      <td>Auto</td>\n",
       "      <td>No</td>\n",
       "      <td>Material only</td>\n",
       "      <td>$3369.5</td>\n",
       "      <td>1.0</td>\n",
       "      <td>Yes</td>\n",
       "      <td>30308357.0</td>\n",
       "      <td>Female</td>\n",
       "      <td>1984-03-11</td>\n",
       "      <td>TN</td>\n",
       "      <td>7.986315e+09</td>\n",
       "      <td>Silver</td>\n",
       "    </tr>\n",
       "    <tr>\n",
       "      <th>3</th>\n",
       "      <td>13015401</td>\n",
       "      <td>47830476</td>\n",
       "      <td>Natural causes</td>\n",
       "      <td>2018-06-17</td>\n",
       "      <td>Auto</td>\n",
       "      <td>No</td>\n",
       "      <td>Material only</td>\n",
       "      <td>$1680</td>\n",
       "      <td>1.0</td>\n",
       "      <td>No</td>\n",
       "      <td>47830476.0</td>\n",
       "      <td>Female</td>\n",
       "      <td>1986-05-01</td>\n",
       "      <td>MA</td>\n",
       "      <td>4.131878e+09</td>\n",
       "      <td>Silver</td>\n",
       "    </tr>\n",
       "    <tr>\n",
       "      <th>4</th>\n",
       "      <td>22890252</td>\n",
       "      <td>19269962</td>\n",
       "      <td>Crime</td>\n",
       "      <td>2018-01-13</td>\n",
       "      <td>Auto</td>\n",
       "      <td>No</td>\n",
       "      <td>Material only</td>\n",
       "      <td>$2680</td>\n",
       "      <td>1.0</td>\n",
       "      <td>No</td>\n",
       "      <td>19269962.0</td>\n",
       "      <td>Male</td>\n",
       "      <td>1977-05-13</td>\n",
       "      <td>NV</td>\n",
       "      <td>9.568719e+09</td>\n",
       "      <td>Gold</td>\n",
       "    </tr>\n",
       "  </tbody>\n",
       "</table>\n",
       "</div>"
      ],
      "text/plain": [
       "   claim_id  customer_id      incident_cause claim_date claim_area  \\\n",
       "0  54004764     21868593        Driver error 2017-11-27       Auto   \n",
       "1  33985796     75740424               Crime 2018-10-03       Home   \n",
       "2  53522022     30308357  Other driver error 2018-02-02       Auto   \n",
       "3  13015401     47830476      Natural causes 2018-06-17       Auto   \n",
       "4  22890252     19269962               Crime 2018-01-13       Auto   \n",
       "\n",
       "  police_report     claim_type claim_amount  total_policy_claims fraudulent  \\\n",
       "0            No  Material only        $2980                  1.0         No   \n",
       "1       Unknown  Material only        $2980                  3.0         No   \n",
       "2            No  Material only      $3369.5                  1.0        Yes   \n",
       "3            No  Material only        $1680                  1.0         No   \n",
       "4            No  Material only        $2680                  1.0         No   \n",
       "\n",
       "      CUST_ID  gender DateOfBirth State       Contact   Segment  \n",
       "0  21868593.0  Female  1979-01-12    VT  7.899168e+09  Platinum  \n",
       "1  75740424.0  Female  2070-01-13    ME  2.655431e+09    Silver  \n",
       "2  30308357.0  Female  1984-03-11    TN  7.986315e+09    Silver  \n",
       "3  47830476.0  Female  1986-05-01    MA  4.131878e+09    Silver  \n",
       "4  19269962.0    Male  1977-05-13    NV  9.568719e+09      Gold  "
      ]
     },
     "execution_count": 105,
     "metadata": {},
     "output_type": "execute_result"
    }
   ],
   "source": [
    "cust_claims.head()"
   ]
  },
  {
   "cell_type": "markdown",
   "id": "c1513650",
   "metadata": {},
   "source": [
    "## 3. Convert the column claim_amount to numeric. Use the appropriate modules/attributes to remove the $ sign."
   ]
  },
  {
   "cell_type": "code",
   "execution_count": 106,
   "id": "c907efdb",
   "metadata": {},
   "outputs": [],
   "source": [
    "cust_claims.claim_amount = pd.to_numeric(cust_claims.claim_amount.str.replace(\"$\",\"\"), downcast = \"float\")"
   ]
  },
  {
   "cell_type": "markdown",
   "id": "1d499ffb",
   "metadata": {},
   "source": [
    "## 4. Of all the injury claims, some of them have gone unreported with the police. Create an alert flag (1,0) for all such claims."
   ]
  },
  {
   "cell_type": "code",
   "execution_count": 107,
   "id": "f478b590",
   "metadata": {},
   "outputs": [],
   "source": [
    "cust_claims['Flag'] = np.where(cust_claims.police_report == 'Unknown',0,1)"
   ]
  },
  {
   "cell_type": "markdown",
   "id": "0f41ed37",
   "metadata": {},
   "source": [
    "## 5. One customer can claim for insurance more than once and in each claim,multiple categories of claims can be involved. However, customer ID should remain unique. Retain the most recent observation and delete any duplicated records in the data based on the customer ID column."
   ]
  },
  {
   "cell_type": "code",
   "execution_count": 108,
   "id": "3e62f4eb",
   "metadata": {},
   "outputs": [
    {
     "data": {
      "text/html": [
       "<div>\n",
       "<style scoped>\n",
       "    .dataframe tbody tr th:only-of-type {\n",
       "        vertical-align: middle;\n",
       "    }\n",
       "\n",
       "    .dataframe tbody tr th {\n",
       "        vertical-align: top;\n",
       "    }\n",
       "\n",
       "    .dataframe thead th {\n",
       "        text-align: right;\n",
       "    }\n",
       "</style>\n",
       "<table border=\"1\" class=\"dataframe\">\n",
       "  <thead>\n",
       "    <tr style=\"text-align: right;\">\n",
       "      <th></th>\n",
       "      <th>claim_id</th>\n",
       "      <th>customer_id</th>\n",
       "      <th>incident_cause</th>\n",
       "      <th>claim_date</th>\n",
       "      <th>claim_area</th>\n",
       "      <th>police_report</th>\n",
       "      <th>claim_type</th>\n",
       "      <th>claim_amount</th>\n",
       "      <th>total_policy_claims</th>\n",
       "      <th>fraudulent</th>\n",
       "      <th>CUST_ID</th>\n",
       "      <th>gender</th>\n",
       "      <th>DateOfBirth</th>\n",
       "      <th>State</th>\n",
       "      <th>Contact</th>\n",
       "      <th>Segment</th>\n",
       "      <th>Flag</th>\n",
       "    </tr>\n",
       "  </thead>\n",
       "  <tbody>\n",
       "    <tr>\n",
       "      <th>0</th>\n",
       "      <td>54004764</td>\n",
       "      <td>21868593</td>\n",
       "      <td>Driver error</td>\n",
       "      <td>2017-11-27</td>\n",
       "      <td>Auto</td>\n",
       "      <td>No</td>\n",
       "      <td>Material only</td>\n",
       "      <td>2980.0</td>\n",
       "      <td>1.0</td>\n",
       "      <td>No</td>\n",
       "      <td>21868593.0</td>\n",
       "      <td>Female</td>\n",
       "      <td>1979-01-12</td>\n",
       "      <td>VT</td>\n",
       "      <td>7.899168e+09</td>\n",
       "      <td>Platinum</td>\n",
       "      <td>1</td>\n",
       "    </tr>\n",
       "    <tr>\n",
       "      <th>1</th>\n",
       "      <td>33985796</td>\n",
       "      <td>75740424</td>\n",
       "      <td>Crime</td>\n",
       "      <td>2018-10-03</td>\n",
       "      <td>Home</td>\n",
       "      <td>Unknown</td>\n",
       "      <td>Material only</td>\n",
       "      <td>2980.0</td>\n",
       "      <td>3.0</td>\n",
       "      <td>No</td>\n",
       "      <td>75740424.0</td>\n",
       "      <td>Female</td>\n",
       "      <td>2070-01-13</td>\n",
       "      <td>ME</td>\n",
       "      <td>2.655431e+09</td>\n",
       "      <td>Silver</td>\n",
       "      <td>0</td>\n",
       "    </tr>\n",
       "    <tr>\n",
       "      <th>6</th>\n",
       "      <td>12878692</td>\n",
       "      <td>18401412</td>\n",
       "      <td>Driver error</td>\n",
       "      <td>2018-01-13</td>\n",
       "      <td>Auto</td>\n",
       "      <td>No</td>\n",
       "      <td>Material only</td>\n",
       "      <td>1730.0</td>\n",
       "      <td>4.0</td>\n",
       "      <td>No</td>\n",
       "      <td>18401412.0</td>\n",
       "      <td>Male</td>\n",
       "      <td>1999-03-02</td>\n",
       "      <td>AR</td>\n",
       "      <td>7.523983e+09</td>\n",
       "      <td>Gold</td>\n",
       "      <td>1</td>\n",
       "    </tr>\n",
       "    <tr>\n",
       "      <th>7</th>\n",
       "      <td>27026412</td>\n",
       "      <td>73486606</td>\n",
       "      <td>Natural causes</td>\n",
       "      <td>2018-04-10</td>\n",
       "      <td>Auto</td>\n",
       "      <td>No</td>\n",
       "      <td>Material only</td>\n",
       "      <td>1160.0</td>\n",
       "      <td>3.0</td>\n",
       "      <td>No</td>\n",
       "      <td>73486606.0</td>\n",
       "      <td>Male</td>\n",
       "      <td>1999-10-25</td>\n",
       "      <td>AK</td>\n",
       "      <td>2.569689e+09</td>\n",
       "      <td>Silver</td>\n",
       "      <td>1</td>\n",
       "    </tr>\n",
       "    <tr>\n",
       "      <th>8</th>\n",
       "      <td>43908336</td>\n",
       "      <td>32813689</td>\n",
       "      <td>Crime</td>\n",
       "      <td>2018-02-15</td>\n",
       "      <td>Auto</td>\n",
       "      <td>Unknown</td>\n",
       "      <td>Material only</td>\n",
       "      <td>2620.0</td>\n",
       "      <td>1.0</td>\n",
       "      <td>No</td>\n",
       "      <td>32813689.0</td>\n",
       "      <td>Male</td>\n",
       "      <td>1993-10-12</td>\n",
       "      <td>ID</td>\n",
       "      <td>1.423247e+09</td>\n",
       "      <td>Silver</td>\n",
       "      <td>0</td>\n",
       "    </tr>\n",
       "    <tr>\n",
       "      <th>...</th>\n",
       "      <td>...</td>\n",
       "      <td>...</td>\n",
       "      <td>...</td>\n",
       "      <td>...</td>\n",
       "      <td>...</td>\n",
       "      <td>...</td>\n",
       "      <td>...</td>\n",
       "      <td>...</td>\n",
       "      <td>...</td>\n",
       "      <td>...</td>\n",
       "      <td>...</td>\n",
       "      <td>...</td>\n",
       "      <td>...</td>\n",
       "      <td>...</td>\n",
       "      <td>...</td>\n",
       "      <td>...</td>\n",
       "      <td>...</td>\n",
       "    </tr>\n",
       "    <tr>\n",
       "      <th>1081</th>\n",
       "      <td>63269067</td>\n",
       "      <td>42364152</td>\n",
       "      <td>Other causes</td>\n",
       "      <td>2017-05-09</td>\n",
       "      <td>Home</td>\n",
       "      <td>No</td>\n",
       "      <td>Material only</td>\n",
       "      <td>2800.0</td>\n",
       "      <td>1.0</td>\n",
       "      <td>No</td>\n",
       "      <td>42364152.0</td>\n",
       "      <td>Female</td>\n",
       "      <td>1996-07-07</td>\n",
       "      <td>ID</td>\n",
       "      <td>5.294622e+09</td>\n",
       "      <td>Silver</td>\n",
       "      <td>1</td>\n",
       "    </tr>\n",
       "    <tr>\n",
       "      <th>1082</th>\n",
       "      <td>22690595</td>\n",
       "      <td>19888166</td>\n",
       "      <td>Other driver error</td>\n",
       "      <td>2017-05-15</td>\n",
       "      <td>Auto</td>\n",
       "      <td>Yes</td>\n",
       "      <td>Injury only</td>\n",
       "      <td>33080.0</td>\n",
       "      <td>2.0</td>\n",
       "      <td>No</td>\n",
       "      <td>19888166.0</td>\n",
       "      <td>Male</td>\n",
       "      <td>1990-04-11</td>\n",
       "      <td>WI</td>\n",
       "      <td>7.126520e+09</td>\n",
       "      <td>Gold</td>\n",
       "      <td>1</td>\n",
       "    </tr>\n",
       "    <tr>\n",
       "      <th>1083</th>\n",
       "      <td>12376894</td>\n",
       "      <td>11256802</td>\n",
       "      <td>Other driver error</td>\n",
       "      <td>2017-04-18</td>\n",
       "      <td>Auto</td>\n",
       "      <td>No</td>\n",
       "      <td>Material only</td>\n",
       "      <td>2840.0</td>\n",
       "      <td>4.0</td>\n",
       "      <td>No</td>\n",
       "      <td>11256802.0</td>\n",
       "      <td>Female</td>\n",
       "      <td>2064-10-22</td>\n",
       "      <td>LA</td>\n",
       "      <td>4.693456e+09</td>\n",
       "      <td>Silver</td>\n",
       "      <td>1</td>\n",
       "    </tr>\n",
       "    <tr>\n",
       "      <th>1084</th>\n",
       "      <td>63226031</td>\n",
       "      <td>61575264</td>\n",
       "      <td>Natural causes</td>\n",
       "      <td>2017-03-16</td>\n",
       "      <td>Auto</td>\n",
       "      <td>No</td>\n",
       "      <td>Material only</td>\n",
       "      <td>1490.0</td>\n",
       "      <td>1.0</td>\n",
       "      <td>No</td>\n",
       "      <td>61575264.0</td>\n",
       "      <td>Male</td>\n",
       "      <td>1995-07-12</td>\n",
       "      <td>WY</td>\n",
       "      <td>1.823851e+09</td>\n",
       "      <td>Gold</td>\n",
       "      <td>1</td>\n",
       "    </tr>\n",
       "    <tr>\n",
       "      <th>1099</th>\n",
       "      <td>58809728</td>\n",
       "      <td>43020876</td>\n",
       "      <td>Other driver error</td>\n",
       "      <td>2017-06-04</td>\n",
       "      <td>Auto</td>\n",
       "      <td>Yes</td>\n",
       "      <td>Material and injury</td>\n",
       "      <td>36685.0</td>\n",
       "      <td>3.0</td>\n",
       "      <td>Yes</td>\n",
       "      <td>NaN</td>\n",
       "      <td>NaN</td>\n",
       "      <td>NaT</td>\n",
       "      <td>NaN</td>\n",
       "      <td>NaN</td>\n",
       "      <td>NaN</td>\n",
       "      <td>1</td>\n",
       "    </tr>\n",
       "  </tbody>\n",
       "</table>\n",
       "<p>1079 rows × 17 columns</p>\n",
       "</div>"
      ],
      "text/plain": [
       "      claim_id  customer_id      incident_cause claim_date claim_area  \\\n",
       "0     54004764     21868593        Driver error 2017-11-27       Auto   \n",
       "1     33985796     75740424               Crime 2018-10-03       Home   \n",
       "6     12878692     18401412        Driver error 2018-01-13       Auto   \n",
       "7     27026412     73486606      Natural causes 2018-04-10       Auto   \n",
       "8     43908336     32813689               Crime 2018-02-15       Auto   \n",
       "...        ...          ...                 ...        ...        ...   \n",
       "1081  63269067     42364152        Other causes 2017-05-09       Home   \n",
       "1082  22690595     19888166  Other driver error 2017-05-15       Auto   \n",
       "1083  12376894     11256802  Other driver error 2017-04-18       Auto   \n",
       "1084  63226031     61575264      Natural causes 2017-03-16       Auto   \n",
       "1099  58809728     43020876  Other driver error 2017-06-04       Auto   \n",
       "\n",
       "     police_report           claim_type  claim_amount  total_policy_claims  \\\n",
       "0               No        Material only        2980.0                  1.0   \n",
       "1          Unknown        Material only        2980.0                  3.0   \n",
       "6               No        Material only        1730.0                  4.0   \n",
       "7               No        Material only        1160.0                  3.0   \n",
       "8          Unknown        Material only        2620.0                  1.0   \n",
       "...            ...                  ...           ...                  ...   \n",
       "1081            No        Material only        2800.0                  1.0   \n",
       "1082           Yes          Injury only       33080.0                  2.0   \n",
       "1083            No        Material only        2840.0                  4.0   \n",
       "1084            No        Material only        1490.0                  1.0   \n",
       "1099           Yes  Material and injury       36685.0                  3.0   \n",
       "\n",
       "     fraudulent     CUST_ID  gender DateOfBirth State       Contact   Segment  \\\n",
       "0            No  21868593.0  Female  1979-01-12    VT  7.899168e+09  Platinum   \n",
       "1            No  75740424.0  Female  2070-01-13    ME  2.655431e+09    Silver   \n",
       "6            No  18401412.0    Male  1999-03-02    AR  7.523983e+09      Gold   \n",
       "7            No  73486606.0    Male  1999-10-25    AK  2.569689e+09    Silver   \n",
       "8            No  32813689.0    Male  1993-10-12    ID  1.423247e+09    Silver   \n",
       "...         ...         ...     ...         ...   ...           ...       ...   \n",
       "1081         No  42364152.0  Female  1996-07-07    ID  5.294622e+09    Silver   \n",
       "1082         No  19888166.0    Male  1990-04-11    WI  7.126520e+09      Gold   \n",
       "1083         No  11256802.0  Female  2064-10-22    LA  4.693456e+09    Silver   \n",
       "1084         No  61575264.0    Male  1995-07-12    WY  1.823851e+09      Gold   \n",
       "1099        Yes         NaN     NaN         NaT   NaN           NaN       NaN   \n",
       "\n",
       "      Flag  \n",
       "0        1  \n",
       "1        0  \n",
       "6        1  \n",
       "7        1  \n",
       "8        0  \n",
       "...    ...  \n",
       "1081     1  \n",
       "1082     1  \n",
       "1083     1  \n",
       "1084     1  \n",
       "1099     1  \n",
       "\n",
       "[1079 rows x 17 columns]"
      ]
     },
     "execution_count": 108,
     "metadata": {},
     "output_type": "execute_result"
    }
   ],
   "source": [
    "cust_claims = cust_claims.drop_duplicates(subset = 'CUST_ID', keep = 'last')\n",
    "\n",
    "cust_claims\n"
   ]
  },
  {
   "cell_type": "markdown",
   "id": "aab5abac",
   "metadata": {},
   "source": [
    "## 6. Check for missing values and impute the missing values with an appropriate value. (mean for continuous and mode for categorical)"
   ]
  },
  {
   "cell_type": "code",
   "execution_count": 109,
   "id": "19a425c8",
   "metadata": {},
   "outputs": [
    {
     "data": {
      "text/plain": [
       "claim_id                0\n",
       "customer_id             0\n",
       "incident_cause          0\n",
       "claim_date              0\n",
       "claim_area              0\n",
       "police_report           0\n",
       "claim_type              0\n",
       "claim_amount           65\n",
       "total_policy_claims    10\n",
       "fraudulent              0\n",
       "CUST_ID                 1\n",
       "gender                  1\n",
       "DateOfBirth             1\n",
       "State                   1\n",
       "Contact                 1\n",
       "Segment                 1\n",
       "Flag                    0\n",
       "dtype: int64"
      ]
     },
     "execution_count": 109,
     "metadata": {},
     "output_type": "execute_result"
    }
   ],
   "source": [
    "cust_claims.isnull().sum()"
   ]
  },
  {
   "cell_type": "code",
   "execution_count": 110,
   "id": "5bd99b72",
   "metadata": {},
   "outputs": [
    {
     "data": {
      "text/plain": [
       "claim_id                        int64\n",
       "customer_id                     int64\n",
       "incident_cause                 object\n",
       "claim_date             datetime64[ns]\n",
       "claim_area                     object\n",
       "police_report                  object\n",
       "claim_type                     object\n",
       "claim_amount                  float32\n",
       "total_policy_claims           float64\n",
       "fraudulent                     object\n",
       "CUST_ID                       float64\n",
       "gender                         object\n",
       "DateOfBirth            datetime64[ns]\n",
       "State                          object\n",
       "Contact                       float64\n",
       "Segment                        object\n",
       "Flag                            int32\n",
       "dtype: object"
      ]
     },
     "execution_count": 110,
     "metadata": {},
     "output_type": "execute_result"
    }
   ],
   "source": [
    "cust_claims.dtypes"
   ]
  },
  {
   "cell_type": "code",
   "execution_count": 111,
   "id": "ba2d89f7",
   "metadata": {},
   "outputs": [],
   "source": [
    "cust_claims.claim_amount = cust_claims.claim_amount.fillna(cust_claims.claim_amount.mean())\n",
    "cust_claims.total_policy_claims = cust_claims.total_policy_claims.fillna(cust_claims.total_policy_claims.mean())"
   ]
  },
  {
   "cell_type": "code",
   "execution_count": 112,
   "id": "ae45fb00",
   "metadata": {},
   "outputs": [],
   "source": [
    "cust_claims.dropna(inplace = True )"
   ]
  },
  {
   "cell_type": "markdown",
   "id": "bd492e06",
   "metadata": {},
   "source": [
    "## 7. Calculate the age of customers in years. Based on the age, categorize the customers according to the below criteria\n",
    "\n",
    "Children < 18\n",
    "\n",
    "Youth 18-30\n",
    "\n",
    "Adult 30-60\n",
    "\n",
    "Senior > 60"
   ]
  },
  {
   "cell_type": "code",
   "execution_count": 113,
   "id": "3f6cdf06",
   "metadata": {},
   "outputs": [],
   "source": [
    "cust_claims.DateOfBirth = np.where(cust_claims.DateOfBirth.dt.year > 2000, cust_claims.DateOfBirth - dt.timedelta(days = 365.25*100), cust_claims.DateOfBirth)"
   ]
  },
  {
   "cell_type": "code",
   "execution_count": 114,
   "id": "cb84e4ea",
   "metadata": {},
   "outputs": [
    {
     "data": {
      "text/html": [
       "<div>\n",
       "<style scoped>\n",
       "    .dataframe tbody tr th:only-of-type {\n",
       "        vertical-align: middle;\n",
       "    }\n",
       "\n",
       "    .dataframe tbody tr th {\n",
       "        vertical-align: top;\n",
       "    }\n",
       "\n",
       "    .dataframe thead th {\n",
       "        text-align: right;\n",
       "    }\n",
       "</style>\n",
       "<table border=\"1\" class=\"dataframe\">\n",
       "  <thead>\n",
       "    <tr style=\"text-align: right;\">\n",
       "      <th></th>\n",
       "      <th>claim_id</th>\n",
       "      <th>customer_id</th>\n",
       "      <th>incident_cause</th>\n",
       "      <th>claim_date</th>\n",
       "      <th>claim_area</th>\n",
       "      <th>police_report</th>\n",
       "      <th>claim_type</th>\n",
       "      <th>claim_amount</th>\n",
       "      <th>total_policy_claims</th>\n",
       "      <th>fraudulent</th>\n",
       "      <th>CUST_ID</th>\n",
       "      <th>gender</th>\n",
       "      <th>DateOfBirth</th>\n",
       "      <th>State</th>\n",
       "      <th>Contact</th>\n",
       "      <th>Segment</th>\n",
       "      <th>Flag</th>\n",
       "    </tr>\n",
       "  </thead>\n",
       "  <tbody>\n",
       "    <tr>\n",
       "      <th>0</th>\n",
       "      <td>54004764</td>\n",
       "      <td>21868593</td>\n",
       "      <td>Driver error</td>\n",
       "      <td>2017-11-27</td>\n",
       "      <td>Auto</td>\n",
       "      <td>No</td>\n",
       "      <td>Material only</td>\n",
       "      <td>2980.0</td>\n",
       "      <td>1.0</td>\n",
       "      <td>No</td>\n",
       "      <td>21868593.0</td>\n",
       "      <td>Female</td>\n",
       "      <td>1979-01-12</td>\n",
       "      <td>VT</td>\n",
       "      <td>7.899168e+09</td>\n",
       "      <td>Platinum</td>\n",
       "      <td>1</td>\n",
       "    </tr>\n",
       "    <tr>\n",
       "      <th>1</th>\n",
       "      <td>33985796</td>\n",
       "      <td>75740424</td>\n",
       "      <td>Crime</td>\n",
       "      <td>2018-10-03</td>\n",
       "      <td>Home</td>\n",
       "      <td>Unknown</td>\n",
       "      <td>Material only</td>\n",
       "      <td>2980.0</td>\n",
       "      <td>3.0</td>\n",
       "      <td>No</td>\n",
       "      <td>75740424.0</td>\n",
       "      <td>Female</td>\n",
       "      <td>1970-01-13</td>\n",
       "      <td>ME</td>\n",
       "      <td>2.655431e+09</td>\n",
       "      <td>Silver</td>\n",
       "      <td>0</td>\n",
       "    </tr>\n",
       "    <tr>\n",
       "      <th>6</th>\n",
       "      <td>12878692</td>\n",
       "      <td>18401412</td>\n",
       "      <td>Driver error</td>\n",
       "      <td>2018-01-13</td>\n",
       "      <td>Auto</td>\n",
       "      <td>No</td>\n",
       "      <td>Material only</td>\n",
       "      <td>1730.0</td>\n",
       "      <td>4.0</td>\n",
       "      <td>No</td>\n",
       "      <td>18401412.0</td>\n",
       "      <td>Male</td>\n",
       "      <td>1999-03-02</td>\n",
       "      <td>AR</td>\n",
       "      <td>7.523983e+09</td>\n",
       "      <td>Gold</td>\n",
       "      <td>1</td>\n",
       "    </tr>\n",
       "    <tr>\n",
       "      <th>7</th>\n",
       "      <td>27026412</td>\n",
       "      <td>73486606</td>\n",
       "      <td>Natural causes</td>\n",
       "      <td>2018-04-10</td>\n",
       "      <td>Auto</td>\n",
       "      <td>No</td>\n",
       "      <td>Material only</td>\n",
       "      <td>1160.0</td>\n",
       "      <td>3.0</td>\n",
       "      <td>No</td>\n",
       "      <td>73486606.0</td>\n",
       "      <td>Male</td>\n",
       "      <td>1999-10-25</td>\n",
       "      <td>AK</td>\n",
       "      <td>2.569689e+09</td>\n",
       "      <td>Silver</td>\n",
       "      <td>1</td>\n",
       "    </tr>\n",
       "    <tr>\n",
       "      <th>8</th>\n",
       "      <td>43908336</td>\n",
       "      <td>32813689</td>\n",
       "      <td>Crime</td>\n",
       "      <td>2018-02-15</td>\n",
       "      <td>Auto</td>\n",
       "      <td>Unknown</td>\n",
       "      <td>Material only</td>\n",
       "      <td>2620.0</td>\n",
       "      <td>1.0</td>\n",
       "      <td>No</td>\n",
       "      <td>32813689.0</td>\n",
       "      <td>Male</td>\n",
       "      <td>1993-10-12</td>\n",
       "      <td>ID</td>\n",
       "      <td>1.423247e+09</td>\n",
       "      <td>Silver</td>\n",
       "      <td>0</td>\n",
       "    </tr>\n",
       "  </tbody>\n",
       "</table>\n",
       "</div>"
      ],
      "text/plain": [
       "   claim_id  customer_id  incident_cause claim_date claim_area police_report  \\\n",
       "0  54004764     21868593    Driver error 2017-11-27       Auto            No   \n",
       "1  33985796     75740424           Crime 2018-10-03       Home       Unknown   \n",
       "6  12878692     18401412    Driver error 2018-01-13       Auto            No   \n",
       "7  27026412     73486606  Natural causes 2018-04-10       Auto            No   \n",
       "8  43908336     32813689           Crime 2018-02-15       Auto       Unknown   \n",
       "\n",
       "      claim_type  claim_amount  total_policy_claims fraudulent     CUST_ID  \\\n",
       "0  Material only        2980.0                  1.0         No  21868593.0   \n",
       "1  Material only        2980.0                  3.0         No  75740424.0   \n",
       "6  Material only        1730.0                  4.0         No  18401412.0   \n",
       "7  Material only        1160.0                  3.0         No  73486606.0   \n",
       "8  Material only        2620.0                  1.0         No  32813689.0   \n",
       "\n",
       "   gender DateOfBirth State       Contact   Segment  Flag  \n",
       "0  Female  1979-01-12    VT  7.899168e+09  Platinum     1  \n",
       "1  Female  1970-01-13    ME  2.655431e+09    Silver     0  \n",
       "6    Male  1999-03-02    AR  7.523983e+09      Gold     1  \n",
       "7    Male  1999-10-25    AK  2.569689e+09    Silver     1  \n",
       "8    Male  1993-10-12    ID  1.423247e+09    Silver     0  "
      ]
     },
     "execution_count": 114,
     "metadata": {},
     "output_type": "execute_result"
    }
   ],
   "source": [
    "cust_claims.head()"
   ]
  },
  {
   "cell_type": "code",
   "execution_count": 115,
   "id": "07fc0bc2",
   "metadata": {},
   "outputs": [
    {
     "data": {
      "text/plain": [
       "50"
      ]
     },
     "execution_count": 115,
     "metadata": {},
     "output_type": "execute_result"
    }
   ],
   "source": [
    "age = cust_claims.claim_date - cust_claims.DateOfBirth\n",
    "age = age.dt.days/365.25\n",
    "\n",
    "cust_claims['Age'] = age\n",
    "\n",
    "cust_claims['AgeGroup'] = np.where(cust_claims.Age < 18, 'Children', \n",
    "                                   np.where(cust_claims.Age <= 30, 'Youth',\n",
    "                                            np.where(cust_claims.Age <= 60, 'Adult', 'Senior')))\n",
    "\n",
    "cust_claims['Age'] = cust_claims.Age.astype(np.int32)\n",
    "\n",
    "np.abs(-50)"
   ]
  },
  {
   "cell_type": "markdown",
   "id": "455fd1a2",
   "metadata": {},
   "source": [
    "## 8. What is the average amount claimed by the customers from various segments?"
   ]
  },
  {
   "cell_type": "code",
   "execution_count": 116,
   "id": "f4fc90e9",
   "metadata": {},
   "outputs": [
    {
     "data": {
      "text/plain": [
       "Segment\n",
       "Gold        12847.800781\n",
       "Platinum    12372.635742\n",
       "Silver      12269.076172\n",
       "Name: claim_amount, dtype: float32"
      ]
     },
     "execution_count": 116,
     "metadata": {},
     "output_type": "execute_result"
    }
   ],
   "source": [
    "avg_claim_by_segment = cust_claims.groupby('Segment')['claim_amount'].mean()\n",
    "avg_claim_by_segment"
   ]
  },
  {
   "cell_type": "markdown",
   "id": "aeed240b",
   "metadata": {},
   "source": [
    "## 9. What is the total claim amount based on incident cause for all the claims that have been done at least 20 days prior to 1st of October, 2018."
   ]
  },
  {
   "cell_type": "code",
   "execution_count": 118,
   "id": "73edbf27",
   "metadata": {},
   "outputs": [
    {
     "data": {
      "text/plain": [
       "Timestamp('2018-09-11 00:00:00')"
      ]
     },
     "execution_count": 118,
     "metadata": {},
     "output_type": "execute_result"
    }
   ],
   "source": [
    "date = '2018-10-01'\n",
    "date = pd.to_datetime(date)\n",
    "ndate = date - dt.timedelta(days = 20)\n",
    "ndate"
   ]
  },
  {
   "cell_type": "code",
   "execution_count": 119,
   "id": "7d09d982",
   "metadata": {},
   "outputs": [],
   "source": [
    "df = cust_claims[cust_claims.claim_date <ndate]"
   ]
  },
  {
   "cell_type": "code",
   "execution_count": 120,
   "id": "d7ef486d",
   "metadata": {},
   "outputs": [
    {
     "data": {
      "text/plain": [
       "incident_cause\n",
       "Crime                  722056\n",
       "Driver error          3316134\n",
       "Natural causes        1312959\n",
       "Other causes          3723600\n",
       "Other driver error    3277843\n",
       "Name: claim_amount, dtype: int32"
      ]
     },
     "execution_count": 120,
     "metadata": {},
     "output_type": "execute_result"
    }
   ],
   "source": [
    "df.groupby('incident_cause')['claim_amount'].sum().astype(np.int32)"
   ]
  },
  {
   "cell_type": "markdown",
   "id": "5390a58a",
   "metadata": {},
   "source": [
    "## 10. How many adults from TX, DE and AK claimed insurance for driver related issues and causes?"
   ]
  },
  {
   "cell_type": "code",
   "execution_count": 121,
   "id": "74ca2028",
   "metadata": {},
   "outputs": [
    {
     "data": {
      "text/plain": [
       "incident_cause\n",
       "Other causes          284\n",
       "Driver error          259\n",
       "Other driver error    243\n",
       "Natural causes        185\n",
       "Crime                 107\n",
       "Name: count, dtype: int64"
      ]
     },
     "execution_count": 121,
     "metadata": {},
     "output_type": "execute_result"
    }
   ],
   "source": [
    "cust_claims.incident_cause.value_counts()"
   ]
  },
  {
   "cell_type": "code",
   "execution_count": 122,
   "id": "6c3693dd",
   "metadata": {},
   "outputs": [
    {
     "data": {
      "text/plain": [
       "State\n",
       "AK    8\n",
       "DE    9\n",
       "TX    6\n",
       "Name: State, dtype: int64"
      ]
     },
     "execution_count": 122,
     "metadata": {},
     "output_type": "execute_result"
    }
   ],
   "source": [
    "df1 = cust_claims[cust_claims.incident_cause.isin(['Driver error','Other driver error'])]\n",
    "\n",
    "df1 = df1[df1.State.isin(['TX' , 'DE' , 'AK'])]\n",
    "\n",
    "df1 = df1[df1.AgeGroup == 'Adult']\n",
    "\n",
    "df1.groupby('State')['State'].count()\n"
   ]
  },
  {
   "cell_type": "markdown",
   "id": "875f9dde",
   "metadata": {},
   "source": [
    "## 11. Draw a pie chart between the aggregated value of claim amount based on gender and segment. Represent the claim amount as a percentage on the pie chart."
   ]
  },
  {
   "cell_type": "code",
   "execution_count": 73,
   "id": "f9de83df",
   "metadata": {},
   "outputs": [
    {
     "data": {
      "text/html": [
       "<div>\n",
       "<style scoped>\n",
       "    .dataframe tbody tr th:only-of-type {\n",
       "        vertical-align: middle;\n",
       "    }\n",
       "\n",
       "    .dataframe tbody tr th {\n",
       "        vertical-align: top;\n",
       "    }\n",
       "\n",
       "    .dataframe thead th {\n",
       "        text-align: right;\n",
       "    }\n",
       "</style>\n",
       "<table border=\"1\" class=\"dataframe\">\n",
       "  <thead>\n",
       "    <tr style=\"text-align: right;\">\n",
       "      <th>Segment</th>\n",
       "      <th>Gold</th>\n",
       "      <th>Platinum</th>\n",
       "      <th>Silver</th>\n",
       "    </tr>\n",
       "    <tr>\n",
       "      <th>gender</th>\n",
       "      <th></th>\n",
       "      <th></th>\n",
       "      <th></th>\n",
       "    </tr>\n",
       "  </thead>\n",
       "  <tbody>\n",
       "    <tr>\n",
       "      <th>Female</th>\n",
       "      <td>2110257.0</td>\n",
       "      <td>2369887.50</td>\n",
       "      <td>1897611.875</td>\n",
       "    </tr>\n",
       "    <tr>\n",
       "      <th>Male</th>\n",
       "      <td>2656277.0</td>\n",
       "      <td>2096634.25</td>\n",
       "      <td>2347488.500</td>\n",
       "    </tr>\n",
       "  </tbody>\n",
       "</table>\n",
       "</div>"
      ],
      "text/plain": [
       "Segment       Gold    Platinum       Silver\n",
       "gender                                     \n",
       "Female   2110257.0  2369887.50  1897611.875\n",
       "Male     2656277.0  2096634.25  2347488.500"
      ]
     },
     "execution_count": 73,
     "metadata": {},
     "output_type": "execute_result"
    }
   ],
   "source": [
    "claim =  cust_claims.pivot_table(index = 'gender', columns = 'Segment', values = 'claim_amount', aggfunc = 'sum')\n",
    "claim"
   ]
  },
  {
   "cell_type": "code",
   "execution_count": 74,
   "id": "dc71bce3",
   "metadata": {},
   "outputs": [
    {
     "data": {
      "image/png": "[encoded data removed]",
      "text/plain": [
       "<Figure size 1500x800 with 2 Axes>"
      ]
     },
     "metadata": {},
     "output_type": "display_data"
    }
   ],
   "source": [
    "claim.T.plot(kind = 'pie', subplots = True, figsize = (15,8), autopct='%1.0f%%')\n",
    "plt.show()"
   ]
  },
  {
   "cell_type": "markdown",
   "id": "f2b9f010",
   "metadata": {},
   "source": [
    "## 12. Among males and females, which gender had claimed the most for any type of driver related issues? E.g. This metric can be compared using a bar chart"
   ]
  },
  {
   "cell_type": "code",
   "execution_count": 75,
   "id": "6cb5d9d3",
   "metadata": {},
   "outputs": [],
   "source": [
    "claim_by_gender = cust_claims.loc[(cust_claims['incident_cause'].isin(['Driver error','Other driver error']))].groupby('gender')['gender'].count()"
   ]
  },
  {
   "cell_type": "code",
   "execution_count": 76,
   "id": "7607e9af",
   "metadata": {},
   "outputs": [
    {
     "data": {
      "text/plain": [
       "<Axes: xlabel='gender'>"
      ]
     },
     "execution_count": 76,
     "metadata": {},
     "output_type": "execute_result"
    },
    {
     "data": {
      "image/png": "[encoded data removed]",
      "text/plain": [
       "<Figure size 640x480 with 1 Axes>"
      ]
     },
     "metadata": {},
     "output_type": "display_data"
    }
   ],
   "source": [
    "claim_by_gender.plot(kind='bar')"
   ]
  },
  {
   "cell_type": "markdown",
   "id": "f80aa64b",
   "metadata": {},
   "source": [
    "## 13. Which age group had the maximum fraudulent policy claims? Visualize it on a bar chart."
   ]
  },
  {
   "cell_type": "code",
   "execution_count": 123,
   "id": "e0390162",
   "metadata": {},
   "outputs": [
    {
     "data": {
      "text/plain": [
       "<Axes: xlabel='AgeGroup'>"
      ]
     },
     "execution_count": 123,
     "metadata": {},
     "output_type": "execute_result"
    },
    {
     "data": {
      "image/png": "[encoded data removed]",
      "text/plain": [
       "<Figure size 640x480 with 1 Axes>"
      ]
     },
     "metadata": {},
     "output_type": "display_data"
    }
   ],
   "source": [
    "df2 = cust_claims[cust_claims.fraudulent == 'Yes'].groupby('AgeGroup')['AgeGroup'].count()\n",
    "\n",
    "df2.plot(kind = 'bar')\n"
   ]
  },
  {
   "cell_type": "markdown",
   "id": "4c1871b9",
   "metadata": {},
   "source": [
    "## 14. Visualize the monthly trend of the total amount that has been claimed by the customers. Ensure that on the “month” axis, the month is in achronological order not alphabetical order."
   ]
  },
  {
   "cell_type": "code",
   "execution_count": 78,
   "id": "8aa8848a",
   "metadata": {},
   "outputs": [
    {
     "data": {
      "text/plain": [
       "<Axes: xlabel='claim_month'>"
      ]
     },
     "execution_count": 78,
     "metadata": {},
     "output_type": "execute_result"
    },
    {
     "data": {
      "image/png": "[encoded data removed]",
      "text/plain": [
       "<Figure size 640x480 with 1 Axes>"
      ]
     },
     "metadata": {},
     "output_type": "display_data"
    }
   ],
   "source": [
    "cust_claims['claim_month'] = cust_claims['claim_date'].dt.month\n",
    "\n",
    "df2 = cust_claims.groupby('claim_month')['claim_amount'].sum().astype(np.int32)\n",
    "\n",
    "df2.plot(kind='bar')\n"
   ]
  },
  {
   "cell_type": "markdown",
   "id": "1c6a176d",
   "metadata": {},
   "source": [
    "## 15. What is the average claim amount for gender and age categories and suitably represent the above using a facetted bar chart, one facet that represents fraudulent claims and the other for non-fraudulent claims."
   ]
  },
  {
   "cell_type": "code",
   "execution_count": 124,
   "id": "7c366179",
   "metadata": {},
   "outputs": [
    {
     "data": {
      "text/plain": [
       "<Axes: ylabel='fraudulent'>"
      ]
     },
     "execution_count": 124,
     "metadata": {},
     "output_type": "execute_result"
    },
    {
     "data": {
      "image/png": "[encoded data removed]",
      "text/plain": [
       "<Figure size 640x480 with 1 Axes>"
      ]
     },
     "metadata": {},
     "output_type": "display_data"
    }
   ],
   "source": [
    "cust_claims.pivot_table(columns = 'AgeGroup', index = 'fraudulent', values = 'claim_amount', aggfunc = 'mean').plot(kind='barh')"
   ]
  },
  {
   "cell_type": "markdown",
   "id": "72de3104",
   "metadata": {},
   "source": [
    "### Based on the conclusions from exploratory analysis as well as suitable statistical tests, answer the below questions. Please include a detailed write-up on the parameters taken into consideration, the Hypothesis testing steps, conclusion from the p-values and the business implications of the statements."
   ]
  },
  {
   "cell_type": "markdown",
   "id": "0cc9e450",
   "metadata": {},
   "source": [
    "## 16. Is there any similarity in the amount claimed by males and females?\n"
   ]
  },
  {
   "cell_type": "code",
   "execution_count": 80,
   "id": "530273ed",
   "metadata": {},
   "outputs": [],
   "source": [
    "male_data = cust_claims[cust_claims.gender == 'Male']['claim_amount']\n",
    "female_data = cust_claims[cust_claims.gender == 'Female']['claim_amount']"
   ]
  },
  {
   "cell_type": "code",
   "execution_count": 81,
   "id": "83caf87f",
   "metadata": {},
   "outputs": [
    {
     "name": "stdout",
     "output_type": "stream",
     "text": [
      "12886.389\n",
      "12102.005\n"
     ]
    }
   ],
   "source": [
    "mean_m = male_data.mean()\n",
    "mean_f = female_data.mean()\n",
    "print(mean_m)\n",
    "print(mean_f)"
   ]
  },
  {
   "cell_type": "code",
   "execution_count": 82,
   "id": "3a4a7da1",
   "metadata": {},
   "outputs": [
    {
     "name": "stdout",
     "output_type": "stream",
     "text": [
      "0.9633555428166622\n"
     ]
    }
   ],
   "source": [
    "t_stat, p_value = stats.ttest_ind(male_data,female_data)\n",
    "\n",
    "print(t_stat)\n"
   ]
  },
  {
   "cell_type": "code",
   "execution_count": 83,
   "id": "9511b753",
   "metadata": {},
   "outputs": [
    {
     "name": "stdout",
     "output_type": "stream",
     "text": [
      "0.33558557520616483\n"
     ]
    }
   ],
   "source": [
    "print(p_value)"
   ]
  },
  {
   "cell_type": "markdown",
   "id": "e30dca6b",
   "metadata": {},
   "source": [
    "## 17. Is there any relationship between age category and segment?\n"
   ]
  },
  {
   "cell_type": "code",
   "execution_count": 125,
   "id": "145f7fff",
   "metadata": {},
   "outputs": [],
   "source": [
    "data = pd.crosstab(cust_claims.AgeGroup, cust_claims.Segment, margins = True)"
   ]
  },
  {
   "cell_type": "code",
   "execution_count": 85,
   "id": "e9e07660",
   "metadata": {},
   "outputs": [
    {
     "name": "stdout",
     "output_type": "stream",
     "text": [
      "5.295436552538789\n"
     ]
    }
   ],
   "source": [
    "chi2 , p ,dof ,expected = stats.chi2_contingency(data)\n",
    "\n",
    "print(chi2)\n"
   ]
  },
  {
   "cell_type": "code",
   "execution_count": 86,
   "id": "ed28a480",
   "metadata": {},
   "outputs": [
    {
     "name": "stdout",
     "output_type": "stream",
     "text": [
      "0.8078314041652046\n"
     ]
    }
   ],
   "source": [
    "print(p)"
   ]
  },
  {
   "cell_type": "code",
   "execution_count": 87,
   "id": "1de7c4ba",
   "metadata": {},
   "outputs": [
    {
     "name": "stdout",
     "output_type": "stream",
     "text": [
      "9\n"
     ]
    }
   ],
   "source": [
    "print(dof)"
   ]
  },
  {
   "cell_type": "code",
   "execution_count": 88,
   "id": "2a1c38ce",
   "metadata": {},
   "outputs": [
    {
     "name": "stdout",
     "output_type": "stream",
     "text": [
      "[[ 255.70779221  248.81539889  238.47680891  743.        ]\n",
      " [   2.75324675    2.67903525    2.567718      8.        ]\n",
      " [ 112.53896104  109.50556586  104.9554731   327.        ]\n",
      " [ 371.          361.          346.         1078.        ]]\n"
     ]
    }
   ],
   "source": [
    "print(expected)"
   ]
  },
  {
   "cell_type": "markdown",
   "id": "189cb5ec",
   "metadata": {},
   "source": [
    "## 18. The current year has shown a significant rise in claim amounts as compared to 2016-17 fiscal average which was $10,000."
   ]
  },
  {
   "cell_type": "code",
   "execution_count": 89,
   "id": "27cdc140",
   "metadata": {},
   "outputs": [],
   "source": [
    "from scipy.stats import ttest_1samp"
   ]
  },
  {
   "cell_type": "code",
   "execution_count": 90,
   "id": "2a5ebe03",
   "metadata": {},
   "outputs": [
    {
     "data": {
      "text/plain": [
       "12286.9795"
      ]
     },
     "execution_count": 90,
     "metadata": {},
     "output_type": "execute_result"
    }
   ],
   "source": [
    "current_year_mean = cust_claims[cust_claims['claim_date'].dt.year == 2017]['claim_amount'].mean()\n",
    "current_year_mean"
   ]
  },
  {
   "cell_type": "code",
   "execution_count": 91,
   "id": "aa53ec7e",
   "metadata": {},
   "outputs": [
    {
     "data": {
      "text/plain": [
       "13258.634765625"
      ]
     },
     "execution_count": 91,
     "metadata": {},
     "output_type": "execute_result"
    }
   ],
   "source": [
    "current_year_std = cust_claims[cust_claims['claim_date'].dt.year == 2017]['claim_amount'].std()\n",
    "current_year_std"
   ]
  },
  {
   "cell_type": "code",
   "execution_count": 92,
   "id": "7f01abb9",
   "metadata": {},
   "outputs": [
    {
     "name": "stdout",
     "output_type": "stream",
     "text": [
      "P-Value:  3.0278517005178043e-05\n",
      "T-Statistic:  4.203942794272767\n"
     ]
    }
   ],
   "source": [
    "t, p = ttest_1samp(\n",
    "    cust_claims[cust_claims['claim_date'].dt.year == 2017]['claim_amount'], 10000)\n",
    "print(\"P-Value: \", p)\n",
    "print(\"T-Statistic: \", t)"
   ]
  },
  {
   "cell_type": "markdown",
   "id": "2a2c4cfa",
   "metadata": {},
   "source": [
    "## 19. Is there any difference between age groups and insurance claims?\n"
   ]
  },
  {
   "cell_type": "code",
   "execution_count": 126,
   "id": "667a25c5",
   "metadata": {},
   "outputs": [
    {
     "data": {
      "text/plain": [
       "AgeGroup\n",
       "Adult       9538174.0\n",
       "Children     146407.0\n",
       "Youth       3793575.0\n",
       "Name: claim_amount, dtype: float32"
      ]
     },
     "execution_count": 126,
     "metadata": {},
     "output_type": "execute_result"
    }
   ],
   "source": [
    "age_group = cust_claims.groupby('AgeGroup')['claim_amount'].sum()\n",
    "\n",
    "age_group"
   ]
  },
  {
   "cell_type": "code",
   "execution_count": 127,
   "id": "5582713c",
   "metadata": {},
   "outputs": [],
   "source": [
    "children_group = cust_claims[cust_claims.AgeGroup == 'Children']['claim_amount']\n",
    "Youth_group = cust_claims[cust_claims.AgeGroup == 'Youth']['claim_amount']\n",
    "Adult_group = cust_claims[cust_claims.AgeGroup == 'Adult']['claim_amount']"
   ]
  },
  {
   "cell_type": "code",
   "execution_count": 95,
   "id": "cc879dfa",
   "metadata": {},
   "outputs": [
    {
     "data": {
      "text/plain": [
       "1.7326953901284248"
      ]
     },
     "execution_count": 95,
     "metadata": {},
     "output_type": "execute_result"
    }
   ],
   "source": [
    "tstat, pvalue = stats.f_oneway(children_group,Youth_group,Adult_group)\n",
    "\n",
    "tstat"
   ]
  },
  {
   "cell_type": "code",
   "execution_count": 96,
   "id": "020e76fc",
   "metadata": {},
   "outputs": [
    {
     "data": {
      "text/plain": [
       "0.1773006140845593"
      ]
     },
     "execution_count": 96,
     "metadata": {},
     "output_type": "execute_result"
    }
   ],
   "source": [
    "pvalue"
   ]
  },
  {
   "cell_type": "markdown",
   "id": "535b2517",
   "metadata": {},
   "source": [
    "## 20. Is there any relationship between total number of policy claims and the claimed amount?"
   ]
  },
  {
   "cell_type": "code",
   "execution_count": 97,
   "id": "216ee5cf",
   "metadata": {},
   "outputs": [],
   "source": [
    "tstat, pvalue = stats.pearsonr(cust_claims.total_policy_claims, cust_claims.claim_amount)"
   ]
  },
  {
   "cell_type": "code",
   "execution_count": 98,
   "id": "bcd33772",
   "metadata": {},
   "outputs": [
    {
     "name": "stdout",
     "output_type": "stream",
     "text": [
      "0.9633555428166622\n",
      "0.47251018688955077\n"
     ]
    }
   ],
   "source": [
    "print(t_stat)\n",
    "print(pvalue)"
   ]
  },
  {
   "cell_type": "code",
   "execution_count": null,
   "id": "174b7188",
   "metadata": {},
   "outputs": [],
   "source": []
  }
 ],
 "metadata": {
  "kernelspec": {
   "display_name": "Python 3 (ipykernel)",
   "language": "python",
   "name": "python3"
  },
  "language_info": {
   "codemirror_mode": {
    "name": "ipython",
    "version": 3
   },
   "file_extension": ".py",
   "mimetype": "text/x-python",
   "name": "python",
   "nbconvert_exporter": "python",
   "pygments_lexer": "ipython3",
   "version": "3.11.5"
  }
 },
 "nbformat": 4,
 "nbformat_minor": 5
}
